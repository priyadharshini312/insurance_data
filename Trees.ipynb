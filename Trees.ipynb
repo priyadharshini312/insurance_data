{
  "nbformat": 4,
  "nbformat_minor": 0,
  "metadata": {
    "colab": {
      "provenance": []
    },
    "kernelspec": {
      "name": "python3",
      "display_name": "Python 3"
    },
    "language_info": {
      "name": "python"
    }
  },
  "cells": [
    {
      "cell_type": "code",
      "execution_count": 1,
      "metadata": {
        "id": "cCVl8LemGtUc"
      },
      "outputs": [],
      "source": [
        "# Import libraries\n",
        "import pandas as pd\n",
        "from sklearn.datasets import load_iris\n",
        "from sklearn.model_selection import train_test_split\n",
        "from sklearn.ensemble import RandomForestClassifier\n",
        "from sklearn.metrics import accuracy_score\n",
        "import matplotlib.pyplot as plt\n"
      ]
    },
    {
      "cell_type": "code",
      "source": [
        "# Load iris dataset\n",
        "iris = load_iris()\n",
        "df = pd.DataFrame(iris.data, columns=iris.feature_names)\n",
        "df['target'] = iris.target\n",
        "\n"
      ],
      "metadata": {
        "id": "JR7Zj6X4G7Gj"
      },
      "execution_count": 2,
      "outputs": []
    },
    {
      "cell_type": "code",
      "source": [
        "# Split data\n",
        "X = df.drop('target', axis=1)\n",
        "y = df['target']\n",
        "X_train, X_test, y_train, y_test = train_test_split(X, y, test_size=0.2, random_state=10)\n",
        "\n"
      ],
      "metadata": {
        "id": "vUczewCUG_ZM"
      },
      "execution_count": 3,
      "outputs": []
    },
    {
      "cell_type": "code",
      "source": [
        "# Default RandomForest model\n",
        "model_default = RandomForestClassifier(n_estimators=10, random_state=10)\n",
        "model_default.fit(X_train, y_train)\n",
        "print(\"Accuracy with 10 trees:\", model_default.score(X_test, y_test))\n",
        "\n"
      ],
      "metadata": {
        "colab": {
          "base_uri": "https://localhost:8080/"
        },
        "id": "dmfeHqyzHFhr",
        "outputId": "3f37da4d-8553-4acd-9014-cc6eaa940c97"
      },
      "execution_count": 4,
      "outputs": [
        {
          "output_type": "stream",
          "name": "stdout",
          "text": [
            "Accuracy with 10 trees: 1.0\n"
          ]
        }
      ]
    },
    {
      "cell_type": "code",
      "source": [
        "# Tune number of trees\n",
        "scores = {}\n",
        "for n in range(10, 110, 10):  # 10, 20, ..., 100\n",
        "    model = RandomForestClassifier(n_estimators=n, random_state=10)\n",
        "    model.fit(X_train, y_train)\n",
        "    scores[n] = model.score(X_test, y_test)\n",
        "\n"
      ],
      "metadata": {
        "id": "IIjqdL-QHKUa"
      },
      "execution_count": 5,
      "outputs": []
    },
    {
      "cell_type": "code",
      "source": [
        "# Print results\n",
        "print(\"\\nAccuracy for different n_estimators:\")\n",
        "for n, score in scores.items():\n",
        "    print(f\"{n} trees → Accuracy: {score:.3f}\")\n",
        "\n"
      ],
      "metadata": {
        "colab": {
          "base_uri": "https://localhost:8080/"
        },
        "id": "5fxuktUFHOTb",
        "outputId": "c3a5f266-2b1e-46b3-f360-3dd6f24ad511"
      },
      "execution_count": 6,
      "outputs": [
        {
          "output_type": "stream",
          "name": "stdout",
          "text": [
            "\n",
            "Accuracy for different n_estimators:\n",
            "10 trees → Accuracy: 1.000\n",
            "20 trees → Accuracy: 1.000\n",
            "30 trees → Accuracy: 1.000\n",
            "40 trees → Accuracy: 1.000\n",
            "50 trees → Accuracy: 1.000\n",
            "60 trees → Accuracy: 1.000\n",
            "70 trees → Accuracy: 1.000\n",
            "80 trees → Accuracy: 1.000\n",
            "90 trees → Accuracy: 1.000\n",
            "100 trees → Accuracy: 1.000\n"
          ]
        }
      ]
    },
    {
      "cell_type": "code",
      "source": [
        "# Plot results\n",
        "plt.plot(list(scores.keys()), list(scores.values()), marker='o')\n",
        "plt.xlabel(\"Number of Trees (n_estimators)\")\n",
        "plt.ylabel(\"Accuracy\")\n",
        "plt.title(\"Random Forest Tuning on Iris Dataset\")\n",
        "plt.show()"
      ],
      "metadata": {
        "colab": {
          "base_uri": "https://localhost:8080/",
          "height": 472
        },
        "id": "JaYn_EKsHSwj",
        "outputId": "fc047de0-0139-44b1-b4b7-e375ac2a151d"
      },
      "execution_count": 7,
      "outputs": [
        {
          "output_type": "display_data",
          "data": {
            "text/plain": [
              "<Figure size 640x480 with 1 Axes>"
            ],
            "image/png": "[encoded data removed]"
          },
          "metadata": {}
        }
      ]
    }
  ]
}